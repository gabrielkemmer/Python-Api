{
 "cells": [
  {
   "cell_type": "code",
   "execution_count": 9,
   "id": "2066dfe4",
   "metadata": {},
   "outputs": [],
   "source": [
    "import requests\n",
    "import json\n",
    "import pandas as pd\n"
   ]
  },
  {
   "cell_type": "markdown",
   "id": "43daa930",
   "metadata": {},
   "source": [
    "# API Code Wbuy - Consult Estoque"
   ]
  },
  {
   "cell_type": "code",
   "execution_count": 11,
   "id": "99a6d6d0",
   "metadata": {},
   "outputs": [
    {
     "name": "stdout",
     "output_type": "stream",
     "text": [
      "<Response [200]>\n"
     ]
    }
   ],
   "source": [
    "response = requests.post(\n",
    "'http://webapi.microvix.com.br/1.0/api/integracao/B2CConsultaProdutos', headers={'wts-autorization': 'F058F9F4-0103-47F5-9BC7-967BD0FF89AB'} , data={'cnpjEmp': '20862840000170'})\n",
    "\n",
    "#comment = json.loads(response.content)\n",
    "\n",
    "print(response)\n"
   ]
  },
  {
   "cell_type": "code",
   "execution_count": null,
   "id": "421ca168",
   "metadata": {},
   "outputs": [],
   "source": [
    "response = requests.post(\n",
    "'http://webapi.microvix.com.br/1.0/api/integracao/B2CConsultaProdutosInformacoes', headers={'wts-autorization': 'F058F9F4-0103-47F5-9BC7-967BD0FF89AB'}, data={'cnpjEmp':'20862840000170','empresa':'1'})\n",
    "\n",
    "#comment = json.loads(response.content)\n",
    "\n",
    "print(response.content)\n",
    "\n"
   ]
  },
  {
   "cell_type": "code",
   "execution_count": null,
   "id": "442965e7",
   "metadata": {},
   "outputs": [],
   "source": [
    "response = requests.post(\n",
    "'http://webapi.microvix.com.br/1.0/api/integracao/B2CConsultaProdutosInformacoes', headers={'chave': 'F058F9F4-0103-47F5-9BC7-967BD0FF89AB'}, data={'cnpjEmp':'20862840000170', 'timestamp':'1'})\n",
    "\n",
    "#comment = json.loads(response.content)\n",
    "\n",
    "print(response.content)\n",
    "\n"
   ]
  },
  {
   "cell_type": "code",
   "execution_count": null,
   "id": "fc1f753c",
   "metadata": {},
   "outputs": [],
   "source": [
    "comment.keys()"
   ]
  },
  {
   "cell_type": "code",
   "execution_count": null,
   "id": "e8b2b7a6",
   "metadata": {},
   "outputs": [],
   "source": [
    "comment['data'][0].keys()"
   ]
  },
  {
   "cell_type": "code",
   "execution_count": null,
   "id": "b0863972",
   "metadata": {},
   "outputs": [],
   "source": [
    "beat = pd.DataFrame(comment ['data'])"
   ]
  },
  {
   "cell_type": "code",
   "execution_count": null,
   "id": "2bf7ba28",
   "metadata": {},
   "outputs": [],
   "source": [
    "beat.count()"
   ]
  },
  {
   "cell_type": "code",
   "execution_count": null,
   "id": "728e1019",
   "metadata": {
    "scrolled": true
   },
   "outputs": [],
   "source": [
    "beat.head()"
   ]
  },
  {
   "cell_type": "code",
   "execution_count": null,
   "id": "c9d36609",
   "metadata": {},
   "outputs": [],
   "source": [
    "import schedule\n",
    "import time\n",
    "import gspread\n",
    "import pandas as pd\n",
    "import pygsheets\n",
    "\n",
    "while True:\n",
    "    beat.to_excel('/Volumes/GoogleDrive/My Drive/Python google Sheet Wbuy/wbuyestoqueoficial.xlsx')\n",
    "    \n",
    "    #Always go to Google Cloud, look for service account email and share with the sheet\n",
    "    sa = gspread.service_account('client_sheet.json')\n",
    "    sh = sa.open(\"Dados Estoque\")\n",
    "\n",
    "    wks = sh.worksheet(\"Sheet1\")\n",
    "\n",
    "    beat=pd.read_excel('/Volumes/GoogleDrive/My Drive/Python google Sheet Wbuy/wbuyestoqueoficial.xlsx')\n",
    "\n",
    "    beat.fillna('', inplace=True)\n",
    "\n",
    "    wks.update([beat.columns.tolist()] + beat.values.tolist())\n",
    "    \n",
    "    time.sleep(300)\n",
    "    "
   ]
  },
  {
   "cell_type": "code",
   "execution_count": null,
   "id": "4e90ad75",
   "metadata": {},
   "outputs": [],
   "source": []
  }
 ],
 "metadata": {
  "kernelspec": {
   "display_name": "Python 3 (ipykernel)",
   "language": "python",
   "name": "python3"
  },
  "language_info": {
   "codemirror_mode": {
    "name": "ipython",
    "version": 3
   },
   "file_extension": ".py",
   "mimetype": "text/x-python",
   "name": "python",
   "nbconvert_exporter": "python",
   "pygments_lexer": "ipython3",
   "version": "3.9.7"
  }
 },
 "nbformat": 4,
 "nbformat_minor": 5
}
