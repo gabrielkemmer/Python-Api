{
 "cells": [
  {
   "cell_type": "markdown",
   "id": "44e402bf",
   "metadata": {},
   "source": [
    "# API Code Wbuy - Consult Customers\n",
    "\n"
   ]
  },
  {
   "cell_type": "code",
   "execution_count": null,
   "id": "3152de20",
   "metadata": {},
   "outputs": [],
   "source": [
    "import requests\n",
    "import json\n",
    "import pandas as pd"
   ]
  },
  {
   "cell_type": "code",
   "execution_count": null,
   "id": "3e4e7d5d",
   "metadata": {},
   "outputs": [],
   "source": [
    "response = requests.get(\n",
    "'https://api.wbuy.com.br/v1/customer/', headers={'Authorization': 'd2JfYmVhdGNvOndiXzgyODdlZmI2Zjk1NTVkOTI3MDEzY2MxZGY1M2Y5MTc1'})\n",
    "\n",
    "comment = json.loads(response.content)\n",
    "\n",
    "\n"
   ]
  },
  {
   "cell_type": "code",
   "execution_count": null,
   "id": "e25ab85b",
   "metadata": {},
   "outputs": [],
   "source": [
    "comment.keys()"
   ]
  },
  {
   "cell_type": "code",
   "execution_count": null,
   "id": "f3b293e8",
   "metadata": {},
   "outputs": [],
   "source": [
    "comment['data'][0].keys()"
   ]
  },
  {
   "cell_type": "code",
   "execution_count": null,
   "id": "1866ac41",
   "metadata": {},
   "outputs": [],
   "source": [
    "beat = pd.DataFrame(comment ['data'])"
   ]
  },
  {
   "cell_type": "code",
   "execution_count": null,
   "id": "e9a65569",
   "metadata": {},
   "outputs": [],
   "source": [
    "beat.count()"
   ]
  },
  {
   "cell_type": "code",
   "execution_count": null,
   "id": "b2906bea",
   "metadata": {},
   "outputs": [],
   "source": [
    "beat.head()"
   ]
  },
  {
   "cell_type": "code",
   "execution_count": null,
   "id": "6fe086a2",
   "metadata": {},
   "outputs": [],
   "source": [
    "import gspread\n",
    "import pandas as pd\n",
    "\n",
    "#Always go to Google Cloud, look for service account email and share with the sheet\n",
    "sa = gspread.service_account('client_sheet.json')\n",
    "sh = sa.open(\"Modelagem De Dados\")\n",
    "\n",
    "wks = sh.worksheet(\"Data\")\n",
    "\n",
    "print('Rows: ', wks.row_count)\n",
    "print('Cols: ', wks.col_count)\n",
    "\n"
   ]
  },
  {
   "cell_type": "code",
   "execution_count": null,
   "id": "593b2783",
   "metadata": {},
   "outputs": [],
   "source": [
    "#beat.to_excel('/Users/gabrielcarvalho/Python Sutff/Wbuy Planilhas/wbuybeat-consumidores.xlsx')\n",
    "beat.to_excel('/Volumes/GoogleDrive/My Drive/Python google Sheet Wbuy/wbuybeat-consumidores.xlsx')\n",
    "\n",
    "\n",
    "\n",
    "\n",
    "import schedule\n",
    "import time\n",
    "\n",
    "def subirarquivosdrive():\n",
    "    beat.to_excel('/Volumes/GoogleDrive/My Drive/Python google Sheet Wbuy/wbuybeat-consumidores.xlsx')\n",
    "    \n",
    "    schedule.every(30).seconds.do(subirarquivosdrive)\n",
    "\n",
    "while 1:\n",
    "    schedule.run_pending()\n",
    "    time.sleep(1)"
   ]
  },
  {
   "cell_type": "code",
   "execution_count": null,
   "id": "cc7d5f49",
   "metadata": {},
   "outputs": [],
   "source": [
    "import requests\n",
    "import json\n",
    "import pandas as pd\n",
    "import schedule\n",
    "import time\n",
    "\n",
    "\n",
    "def subirarquivosdrive():\n",
    "    response = requests.get(\n",
    "    'https://api.wbuy.com.br/v1/customer/', headers={'Authorization': ''})\n",
    "\n",
    "    comment = json.loads(response.content)\n",
    "    \n",
    "    comment.keys()\n",
    "    \n",
    "    comment['data'][0].keys()\n",
    "    \n",
    "    beat = pd.DataFrame(comment ['data'])\n",
    "    \n",
    "    beat.to_excel('/Volumes/GoogleDrive/My Drive/Python google Sheet Wbuy/wbuybeat-consumidore.xlsx')\n",
    "    \n",
    "    schedule.every(5).minutes.do(subirarquivosdrive)\n",
    "\n",
    "schedule.every(4).seconds.do(subirarquivosdrive)\n",
    "        \n",
    "while 1: \n",
    "    schedule.run_pending()\n",
    "    time.sleep(1)"
   ]
  }
 ],
 "metadata": {
  "kernelspec": {
   "display_name": "Python 3 (ipykernel)",
   "language": "python",
   "name": "python3"
  },
  "language_info": {
   "codemirror_mode": {
    "name": "ipython",
    "version": 3
   },
   "file_extension": ".py",
   "mimetype": "text/x-python",
   "name": "python",
   "nbconvert_exporter": "python",
   "pygments_lexer": "ipython3",
   "version": "3.9.7"
  }
 },
 "nbformat": 4,
 "nbformat_minor": 5
}
